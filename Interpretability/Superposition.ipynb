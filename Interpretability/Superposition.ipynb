{
 "cells": [
  {
   "cell_type": "markdown",
   "metadata": {},
   "source": [
    "# Toy models of Superposition\n",
    "\n",
    "\n"
   ]
  },
  {
   "cell_type": "code",
   "execution_count": null,
   "metadata": {},
   "outputs": [],
   "source": [
    "# import packages\n",
    "from dataclasses import dataclass\n",
    "from tqdm import trange\n",
    "\n",
    "import torch\n",
    "from torch.nn import functional as F\n",
    "\n",
    "import matplotlib.pyplot as plt\n",
    "import seaborn as sns\n",
    "\n",
    "\n",
    "@dataclass\n",
    "class Config:\n",
    "    n_features: int \n",
    "    n_hidden: int\n",
    "    batch_size: int\n",
    "\n",
    "class Model():\n",
    "    def __init__(self, config, importance=None, nonlinear = False, sparsity=0):\n",
    "        # store hyperparameters\n",
    "        self.config = config\n",
    "        self.importance = importance if importance is not None else torch.ones(config.n_features)\n",
    "        self.nonlinear = nonlinear\n",
    "        self.sparsity = sparsity\n",
    "        # initialise weights and biases\n",
    "        self.weights = torch.randn(size=(config.n_features, config.n_hidden), requires_grad=True) \n",
    "        self.bias = torch.zeros((1,config.n_features), requires_grad=True)\n",
    "        self.parameters = [self.bias, self.weights]\n",
    "\n",
    "    def forward(self, x):\n",
    "        x = x @ self.weights\n",
    "        x = x @ torch.transpose(self.weights, 0, 1) + self.bias\n",
    "        x = F.relu(x) if self.nonlinear else x\n",
    "        return x\n",
    "    \n",
    "    def generate_batch(self):\n",
    "        batch = torch.rand((self.config.batch_size, self.config.n_features))\n",
    "        mask = torch.rand(batch.shape) < self.sparsity\n",
    "        batch[mask] = 0\n",
    "        return batch\n",
    "\n",
    "    def train(self, lr=0.1, n_steps=10**5):\n",
    "        # we correct lr for the percentage of zero vectors in the batch whose loss is always zero\n",
    "        learning_rate =  lr / (1 - self.sparsity ** self.config.n_features)\n",
    "\n",
    "        loss_hist = []\n",
    "        for i in trange(n_steps):    \n",
    "            # generate batch\n",
    "            x = self.generate_batch()\n",
    "\n",
    "            # forward pass\n",
    "            y = self.forward(x)\n",
    "        \n",
    "            # compute loss, weighted by the importance of the features\n",
    "            loss = torch.mean((x-y)**2 * self.importance)\n",
    "        \n",
    "            # backward pass\n",
    "            for p in self.parameters:\n",
    "                p.grad = None\n",
    "            loss.backward()\n",
    "\n",
    "            # update\n",
    "            for p in self.parameters:\n",
    "                p.data += -learning_rate * p.grad \n",
    "                # p.grad.zero()\n",
    "\n",
    "            if i % 100 == 0:\n",
    "                loss_hist.append(loss.log10().item())\n",
    "            \n",
    "        self.loss_hist = loss_hist\n"
   ]
  },
  {
   "cell_type": "markdown",
   "metadata": {},
   "source": [
    "The input features $x_i$ will be set to zero with a probability of $S_i = S$, but otherwise they will be drawn uniformly from $[0, 1]$. This parameter $S$ is the sparsity and determines how 'sparse' the data is."
   ]
  },
  {
   "cell_type": "code",
   "execution_count": 120,
   "metadata": {},
   "outputs": [],
   "source": [
    "import matplotlib.cm as cm\n",
    "\n",
    "def plot_log10loss(model, ax):\n",
    "    ax.plot(model.loss_hist)\n",
    "    \n",
    "def plot_heatmaps(model, ax1, ax2):\n",
    "    # get weights, biases and round them off\n",
    "    wwt = model.weights @ torch.transpose(model.weights, 0, 1)\n",
    "    wwt = wwt.detach().numpy()\n",
    "    bias = model.bias.detach().numpy().T\n",
    "\n",
    "    # heatmap for weights\n",
    "    sns.heatmap(wwt,  cmap='RdBu', vmin=-1, vmax=1, ax=ax1, linewidths=0.2, cbar=False, square=True)\n",
    "    ax1.set_xticks([])\n",
    "    ax1.set_yticks([])\n",
    "    # heatmap for biases\n",
    "    sns.heatmap(bias,  cmap='RdBu', vmin=-1, vmax=1, ax=ax2, linewidths=0.2, cbar=True, square=True)\n",
    "    ax2.set_xticks([])\n",
    "    ax2.set_yticks([])\n",
    "\n",
    "    plt.subplots_adjust(left=0.0, right=2)\n",
    "    plt.tight_layout()\n",
    "\n",
    "\n",
    "def create_plots(model):\n",
    "    fig, ax = plt.subplots(ncols=2, figsize = (6, 3))\n",
    "    plot_heatmaps(model, ax[0], ax[1])"
   ]
  },
  {
   "cell_type": "code",
   "execution_count": null,
   "metadata": {},
   "outputs": [
    {
     "name": "stderr",
     "output_type": "stream",
     "text": [
      "100%|██████████| 100000/100000 [00:10<00:00, 9160.61it/s]\n",
      "100%|██████████| 100000/100000 [00:11<00:00, 8727.75it/s]\n",
      "100%|██████████| 100000/100000 [00:11<00:00, 8755.46it/s]\n",
      "100%|██████████| 100000/100000 [00:11<00:00, 8726.82it/s]\n"
     ]
    }
   ],
   "source": [
    "# set dimensions and batchsize of model\n",
    "config = Config(\n",
    "    n_features = 10,\n",
    "    n_hidden = 4,\n",
    "    batch_size = 30,\n",
    " )\n",
    "\n",
    "# pick the parameters for which we want to plot\n",
    "nonlinear = [False]+[True]*3\n",
    "sparsity = [0, 0, 0.7, 0.9]\n",
    "\n",
    "# create multiple models\n",
    "models = []\n",
    "for i in range(len(sparsity)):\n",
    "    models.append(Model(\n",
    "        config=config,\n",
    "        importance= 0.7 ** torch.arange(config.n_features),\n",
    "        nonlinear=nonlinear[i],\n",
    "        sparsity=sparsity[i],\n",
    "    ))\n",
    "\n",
    "# train the models\n",
    "for model in models:\n",
    "    model.train(lr=0.3, n_steps=10**5)\n"
   ]
  },
  {
   "cell_type": "code",
   "execution_count": null,
   "metadata": {},
   "outputs": [
    {
     "data": {
      "image/png": "[encoded data removed]",
      "text/plain": [
       "<Figure size 600x300 with 3 Axes>"
      ]
     },
     "metadata": {},
     "output_type": "display_data"
    },
    {
     "data": {
      "image/png": "[encoded data removed]",
      "text/plain": [
       "<Figure size 600x300 with 3 Axes>"
      ]
     },
     "metadata": {},
     "output_type": "display_data"
    },
    {
     "data": {
      "image/png": "[encoded data removed]",
      "text/plain": [
       "<Figure size 600x300 with 3 Axes>"
      ]
     },
     "metadata": {},
     "output_type": "display_data"
    },
    {
     "data": {
      "image/png": "[encoded data removed]",
      "text/plain": [
       "<Figure size 600x300 with 3 Axes>"
      ]
     },
     "metadata": {},
     "output_type": "display_data"
    }
   ],
   "source": [
    "# display the heatmaps of weights and biases\n",
    "for model in models:\n",
    "    create_plots(model)"
   ]
  },
  {
   "cell_type": "markdown",
   "metadata": {},
   "source": [
    "# ------------- Old text ------------------"
   ]
  },
  {
   "cell_type": "markdown",
   "metadata": {},
   "source": [
    "In this notebook we recreate some of the results of the 2022 Anthropic paper \"Toy models of Superposition\". \n",
    "\n",
    "One of the interesting properties of neural networks, is that despite the limited number of neurons in their hidden layer, they are often able to recognize and process a wide range of features that severly outnumber the width of the network. The embedding space of tokens for LLM models for example \n",
    "\n",
    "\n",
    "sassertions of that paper -- which we recreate here -- is the that neural networks can store many more features in their hiden layers, than the width hidden layers might seem to suggest.\n",
    "\n",
    "\n",
    "The simple model we study here is an autoencoder that maps a vector $\\vec{x} \\in \\mathbb{R}^n$ into a lower dimensional vector $ \\vec{h} \\in \\mathbb{R}^m$ and then tries to recovers the original vector $\\vec{x}$ from it again. We will train the autoencoder to recover this vector as accurately as possible, and inspect which neurons in the $m$-dimensional hidden layer are activated for a given vector. We consider two models: a simple linear model (without any activitation function) and a nonlinear model (with RELU activitation function). We interpret the inout dimension $n$ as the number of features that we want the model to store and assig \n",
    "\n",
    "The linear model will essentially be\n",
    "$$\n",
    "    x' = W^T W x + b \n",
    "$$\n",
    "and the nonlinear model\n",
    "$$\n",
    "    x' = \\text{ReLU}(W^T W x + b )\n",
    "$$\n",
    "The entroes of the matrix $W$ will be the weights of the model that the model will train to minimize a loss function. This loss function is given by the mean squared error\n",
    "$$\n",
    "    L(\\vec{x}) = \\frac{1}{n} \\sum_{i=1}^n I_i (x_i- x'_i)^2,\n",
    "$$\n",
    "for a given input vector $\\vec{x}$, weighted by the relative `importance' $I_i$. These weights mimic the fact that in most real life ML problems, some features are way more relevant than others, and in this simple toymodel we will always set $I_i = \\alpha ^i$ for some $0 < \\alpha \\leq 1$, such the features are ordered with respect to importance."
   ]
  },
  {
   "cell_type": "markdown",
   "metadata": {},
   "source": [
    "This time, we see that the linear model learns to pass the first five features ($x_0, x_1, x_2, x_3$ and $x_4$) along and kills any other input. This makes sense, as the first linear mapping $h = x W$ is a projection and the second transformation $x' = h W^T$ is nothing but an embedding, hence information regarding the distinction between all 20 features must be lost in some way. The model simply acknowledges this therefore only passes the five most important features along as incentivized by the loss function."
   ]
  },
  {
   "cell_type": "markdown",
   "metadata": {},
   "source": [
    "### The nonlinear model\n",
    "The fun starts when we consider the nonlinear model that has a ReLU activiation function at the end. We will see that these models are able to pass along more features than the hidden layers dimension might seem to suggest. An important property of the data that plays a central rol in the enabling this is the notion of sparsity. \n",
    "\n",
    "When we talk about data with sparse features, we mean that when we sample a random vector from this sparse data, most features (or components $x_i$) will be zero. In this toymodel, the spasity is modelled by a parameter $S$ which is the probability that a given features is zero. If sparsity $S=0$ than all components $x_i$ of the vector $\\vec{x}$ are simply drawn from a uniform distribution $[0, 1]$, but if $S=0.5$ we expect about half of the components to be zero. As $S$ appproaches one the data becomes more sparse and we will see superposition kicking in.\n",
    "\n",
    "Before we get there, let us run the nonlinear model again, nut with sparsity still set to zero."
   ]
  },
  {
   "cell_type": "markdown",
   "metadata": {},
   "source": [
    "Something interesting happened: with sparsity at 0.7 -- meaning that around 70% of the features for a given sample $\\vec{x}$ are set to zero -- the model manages to learn more than five features! How does it embed these extra features $x_j$ into the hidden layer? By placing each of them antipodal to some other feature $x_i$, which we can see from the off-diagonal entries in the middle diagram where $W_i W_j = W_jW_i= -1$.\n",
    "\n",
    "Why does the model compress two features into one dimensions? Let $y$ be such a dimension, then we can see that $y = x_i - x_j$. When only one of these two components is nonzero, we find that for $x_i, x_j \\in [0, 1]$ we get \n",
    "$$\n",
    "    y = x_i \\qquad \\text{and thus} \\qquad  \\text{ReLU}(y) = x_i \\qquad \\text{if} \\qquad x_j=0\n",
    "$$\n",
    "$$\n",
    "    y = -x_j \\qquad \\text{and thus} \\qquad  \\text{ReLU}(-y) = x_j \\qquad \\text{if} \\qquad x_i=0\n",
    "$$\n",
    "\n",
    "Of course, this logic no longer works if both features are present in a given sample, but because we set sparsity to 0.7, the odds of sampling a vector with both features $x_i$ and $x_j$ nonzero is $(1-S)^2 = 9 \\%$. Hence, the model learns that it's statistically advantagous to create an antipodal pair, despite the fact that in 9% of the samples interference will lead to $\\text{ReLU}(y) = 0$ thereby preventing us from recovering both vectors. As we increase sparsity, the risk of interference decreases and the model will learn to create more antipodal pairs to maximize the number of features it can pass along.\n"
   ]
  },
  {
   "cell_type": "markdown",
   "metadata": {},
   "source": [
    "At sparsity of 90% we observe even more antipodal pairs. Here, the odds of interference are 1% and hence the model is encouraged to create more antipodal pairs, as the odds of co-occurence is so small. In this case, the number of features that pass through the model is doubled, from four to eight. But if we increase the sparsity even more, can the model find a way to include even the final two (least important) features?\n"
   ]
  },
  {
   "cell_type": "markdown",
   "metadata": {},
   "source": [
    "The answer is yes; when we increase the sparsity even more, the model includes all features. It does so  by constructing more complicated superpositions "
   ]
  },
  {
   "cell_type": "code",
   "execution_count": null,
   "metadata": {},
   "outputs": [],
   "source": []
  }
 ],
 "metadata": {
  "kernelspec": {
   "display_name": "Python 3",
   "language": "python",
   "name": "python3"
  },
  "language_info": {
   "codemirror_mode": {
    "name": "ipython",
    "version": 3
   },
   "file_extension": ".py",
   "mimetype": "text/x-python",
   "name": "python",
   "nbconvert_exporter": "python",
   "pygments_lexer": "ipython3",
   "version": "3.12.1"
  }
 },
 "nbformat": 4,
 "nbformat_minor": 2
}
