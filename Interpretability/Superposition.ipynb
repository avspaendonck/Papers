{
 "cells": [
  {
   "cell_type": "markdown",
   "metadata": {},
   "source": [
    "# Toy models of Superposition"
   ]
  },
  {
   "cell_type": "code",
   "execution_count": 2,
   "metadata": {},
   "outputs": [],
   "source": [
    "# import packages\n",
    "import torch\n",
    "\n",
    "# create model\n",
    "class LinearModel():\n",
    "    def __init__(self, input_size, hidden_size):\n",
    "        self.weights = torch.randn(size=(input_size, hidden_size))\n",
    "        self.bias = torch.zeros((1,input_size))\n",
    "        self.parameters = [self.bias, self.weights]\n",
    "\n",
    "    def forward(self, x):\n",
    "        x = x @ self.weights\n",
    "        x = x @ torch.transpose(self.weights, 0, 1) + self.bias\n",
    "        return x\n",
    "    \n",
    "    def train_step(self, x, y, lr = 0.01):\n",
    "        # forward pass\n",
    "        out = self.forward(x)\n",
    "\n",
    "        # compute loss\n",
    "        loss = torch.mean((out - y)**2)\n",
    "\n",
    "        # Backward pass\n",
    "        loss.backward()\n",
    "\n",
    "        # Update and reset gradients\n",
    "        for p in self.parameters:\n",
    "            p.data += -lr * p.grad\n",
    "            p.grad.zero()\n",
    "        \n",
    "        return loss.item()\n",
    "\n"
   ]
  },
  {
   "cell_type": "code",
   "execution_count": 11,
   "metadata": {},
   "outputs": [
    {
     "data": {
      "text/plain": [
       "tensor([[ 2.0013e+00,  1.0201e+00, -1.4404e+00, -6.9425e+00, -5.1367e-01,\n",
       "          3.6418e+00,  1.1280e+01, -7.4025e+00, -1.2526e+00,  5.1069e+00,\n",
       "          9.3632e+00,  2.0530e+00, -3.8955e+00,  8.4232e-01,  5.0814e+00,\n",
       "         -2.2984e+00,  9.6399e+00,  3.8838e+00,  3.5740e+00, -3.2782e+00],\n",
       "        [-1.8588e+00,  6.9348e-01, -4.6115e-01,  2.1384e+00, -2.8335e+00,\n",
       "          7.5670e-01,  5.1834e+00, -3.3768e+00,  2.9413e+00,  1.4905e+00,\n",
       "          2.2879e+00,  1.0230e+00, -3.1204e+00, -5.4946e-01,  1.7177e+00,\n",
       "          4.7721e-01,  5.3647e+00,  4.1893e+00, -7.3679e-02, -1.0983e+00],\n",
       "        [ 3.1688e+00,  1.5213e+00, -6.1872e+00, -7.6775e+00, -6.2321e-02,\n",
       "          1.4928e+00,  4.8097e+00,  2.0192e+00, -2.8970e+00,  2.3544e+00,\n",
       "          9.3619e+00, -2.8311e+00, -6.5694e+00,  4.3184e-01,  1.1473e+00,\n",
       "         -2.1794e+00,  6.5431e-01,  9.6448e+00,  5.0926e+00, -1.7585e+00],\n",
       "        [ 3.0210e+00, -1.5590e+00, -5.7467e+00, -5.6498e+00,  1.4201e+00,\n",
       "          2.2157e+00,  5.3241e+00,  2.4372e+00, -4.0234e+00,  3.0069e+00,\n",
       "          9.5589e+00, -2.4044e+00, -5.2402e+00,  5.4148e-01,  1.0327e+00,\n",
       "         -1.9624e+00,  1.1736e+00,  8.0897e+00,  3.7928e+00, -3.3642e+00],\n",
       "        [ 2.4892e+00,  1.6760e+00, -4.9981e+00, -6.6294e+00, -1.9818e+00,\n",
       "          4.9669e+00,  1.2465e+01, -4.6826e+00,  1.9427e+00,  3.2963e+00,\n",
       "          1.3030e+01,  1.2005e+00, -9.5799e+00, -7.5908e-01,  3.2573e+00,\n",
       "         -2.3496e+00,  9.1401e+00,  9.7452e+00,  4.6073e+00, -4.0560e+00],\n",
       "        [-1.0808e+00,  5.4711e+00,  1.9760e+00, -3.9605e+00, -3.9339e+00,\n",
       "          2.8775e-01,  7.3854e+00, -9.6739e+00,  2.2646e+00,  3.3178e+00,\n",
       "          1.9560e+00,  2.5738e+00, -1.5297e+00,  7.1784e-01,  5.1342e+00,\n",
       "         -7.2539e-01,  8.7402e+00,  1.6086e+00,  2.1593e+00,  9.5752e-01],\n",
       "        [ 3.1351e+00, -1.3264e+00, -3.3045e+00, -6.6176e+00,  1.8434e+00,\n",
       "          2.8749e+00,  6.7978e+00, -1.3354e+00, -4.0641e+00,  3.8446e+00,\n",
       "          8.8182e+00, -4.0119e-01, -3.1062e+00,  9.6194e-01,  2.5472e+00,\n",
       "         -2.2731e+00,  3.8285e+00,  4.1361e+00,  3.4145e+00, -3.4062e+00],\n",
       "        [ 3.7624e-01,  2.2072e+00,  2.8280e+00, -3.4054e+00, -9.1498e-01,\n",
       "          1.9677e+00,  5.8626e+00, -8.1995e+00,  1.4321e+00,  2.1009e+00,\n",
       "          1.7750e+00,  3.6586e+00,  4.3945e-01,  3.9070e-01,  3.6175e+00,\n",
       "         -9.9442e-01,  7.2213e+00, -3.1690e+00,  8.3753e-01, -4.2611e-01],\n",
       "        [-1.8459e+00,  1.6384e+00, -6.4219e-01,  2.7586e+00, -3.5908e+00,\n",
       "          1.1872e+00,  4.4005e+00, -2.8954e+00,  5.4863e+00, -3.5599e-01,\n",
       "          1.9402e+00,  1.4807e+00, -4.5272e+00, -1.4867e+00,  5.4163e-01,\n",
       "          6.7412e-01,  4.7659e+00,  4.3026e+00, -2.5943e-01, -5.9157e-01],\n",
       "        [-8.2555e-01,  2.7588e+00,  1.3916e+00,  4.1014e-01, -3.5731e+00,\n",
       "          3.5676e+00,  7.7203e+00, -7.9301e+00,  7.6590e+00, -3.7823e-01,\n",
       "          3.2960e+00,  4.7204e+00, -4.5764e+00, -1.8802e+00,  1.9101e+00,\n",
       "         -1.4785e-01,  9.0253e+00,  5.7532e-01, -4.3513e-03, -1.1133e+00]])"
      ]
     },
     "execution_count": 11,
     "metadata": {},
     "output_type": "execute_result"
    }
   ],
   "source": [
    "#  hyperparameters\n",
    "S = 0.1\n",
    "input_size = 20\n",
    "hidden_size = 5\n",
    "sample_size = 1000\n",
    "batch_size = 20\n",
    "\n",
    "# create data and randomly set elements to zero to mimic sparsity\n",
    "data = torch.rand((10, input_size))\n",
    "mask = torch.rand(data.shape) < S\n",
    "data[mask] = 0\n",
    "\n",
    "# Initialize model\n",
    "model = LinearModel(input_size, hidden_size)\n",
    "\n",
    "\n",
    "\n",
    "\n",
    "\n",
    "\n"
   ]
  },
  {
   "cell_type": "code",
   "execution_count": 21,
   "metadata": {},
   "outputs": [
    {
     "data": {
      "text/plain": [
       "tensor([[  6.7475,  -5.8833,   2.9287,  10.9396, -14.5848,  16.6833,  -0.1689,\n",
       "           6.5663,   3.2789,  -1.1569, -10.3093,   8.9053,   3.2356,   9.7727,\n",
       "          11.1480,  -9.3307,   4.5352,   1.9709,  20.1343,   5.1474]])"
      ]
     },
     "execution_count": 21,
     "metadata": {},
     "output_type": "execute_result"
    }
   ],
   "source": [
    "model = LinearModel(20, 5)\n",
    "v = torch.ones(20)\n",
    "model.forward(v)\n"
   ]
  },
  {
   "cell_type": "code",
   "execution_count": null,
   "metadata": {},
   "outputs": [],
   "source": []
  }
 ],
 "metadata": {
  "kernelspec": {
   "display_name": "Python 3",
   "language": "python",
   "name": "python3"
  },
  "language_info": {
   "codemirror_mode": {
    "name": "ipython",
    "version": 3
   },
   "file_extension": ".py",
   "mimetype": "text/x-python",
   "name": "python",
   "nbconvert_exporter": "python",
   "pygments_lexer": "ipython3",
   "version": "3.12.1"
  }
 },
 "nbformat": 4,
 "nbformat_minor": 2
}
